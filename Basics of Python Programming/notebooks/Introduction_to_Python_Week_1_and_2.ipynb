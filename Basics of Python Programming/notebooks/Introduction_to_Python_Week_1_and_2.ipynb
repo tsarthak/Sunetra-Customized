{
  "nbformat": 4,
  "nbformat_minor": 0,
  "metadata": {
    "colab": {
      "provenance": [],
      "toc_visible": true,
      "authorship_tag": "ABX9TyOGZF86sB00rBBiwyww7nki",
      "include_colab_link": true
    },
    "kernelspec": {
      "name": "python3",
      "display_name": "Python 3"
    },
    "language_info": {
      "name": "python"
    }
  },
  "cells": [
    {
      "cell_type": "markdown",
      "metadata": {
        "id": "view-in-github",
        "colab_type": "text"
      },
      "source": [
        "<a href=\"https://colab.research.google.com/github/tsarthak/Sunetra-Customized/blob/main/Basics%20of%20Python%20Programming/Introduction_to_Python_Week_1_and_2.ipynb\" target=\"_parent\"><img src=\"https://colab.research.google.com/assets/colab-badge.svg\" alt=\"Open In Colab\"/></a>"
      ]
    },
    {
      "cell_type": "markdown",
      "source": [
        "# Introduction to Python"
      ],
      "metadata": {
        "id": "tgATlapwwDAw"
      }
    },
    {
      "cell_type": "markdown",
      "source": [
        "## Relevant links\n",
        "\n",
        "- [Python Homepage](https://www.python.org/)\n",
        "- [Docs](https://docs.python.org/3/)\n",
        "\n",
        "## What is a programming language?\n",
        "\n",
        "- Computers are electronic devices, and unlike humans, we cannot instruct them to perform operations in simple english.\n",
        "- Our language is contextual and too verbose and abstract to describe what we need exactly.\n",
        "- We need a more structured way of talking to them, so that it is easy for them to perform tasks.\n",
        "- This structure comes in the form of binary numbers and digital electronics, with boolean algebra.\n",
        "- When you add memory and a dynamic way of fetching some instructions, we can talk to the system.\n",
        "\n",
        "## What is a program?\n",
        "\n",
        "- A sequence of instructions issued to a computer is called a program.\n",
        "\n",
        "## What is Python?\n",
        "\n",
        "- Python is a General purpose (GP) programming and scripting language.\n",
        "- Does so by implementing functions, and other control structures which allow you to express your intent programmatically.\n",
        "- Is cross platform - means can run on a variety of operating system (OSX, Windows, Linux etc.).\n",
        "- Is Interpreted.\n",
        "\n",
        "### Reading\n",
        "\n",
        "- More information about Python can be found [here](https://docs.python.org/3/tutorial/index.html).\n",
        "- More information on compiled languages can be found [here](https://en.wikipedia.org/wiki/Compiler)\n",
        "- More information on interpreters and interpreted languages can be found [here](https://en.wikipedia.org/wiki/Interpreter_(computing))."
      ],
      "metadata": {
        "id": "SwlW4u64yMBX"
      }
    },
    {
      "cell_type": "markdown",
      "source": [
        "## First Python Program\n",
        "\n",
        "We will write a universally accepted first program - `Hello World` in python and try to understand various parts of this very simple statement."
      ],
      "metadata": {
        "id": "eDLbOMKLvXKK"
      }
    },
    {
      "cell_type": "code",
      "source": [
        "# Hello there!\n",
        "print(\"Hello World\")\n",
        "\n",
        "# demonstrating passing multiple arguments. print function will concatenate\n",
        "# all arguments by inserting a separator. the default separator is a single\n",
        "# white space. we will learn how to change the separator later.\n",
        "print(\"Hello\", \"World\")"
      ],
      "metadata": {
        "colab": {
          "base_uri": "https://localhost:8080/"
        },
        "id": "vJfzQrB32How",
        "outputId": "a662dbb4-5d4d-4e2e-b4ef-ffa4664c32f1"
      },
      "execution_count": null,
      "outputs": [
        {
          "output_type": "stream",
          "name": "stdout",
          "text": [
            "Hello World\n",
            "Hello World\n"
          ]
        }
      ]
    },
    {
      "cell_type": "markdown",
      "source": [
        "### Understanding Hello World\n",
        "\n",
        "#### Functions\n",
        "- A labeled group of instructions which perform a single or multiple actions.\n",
        "- The label, is called as the function name.\n",
        "- They can accept certain values to be worked upon, called as parameters inside a pair of round brackets like `()`.\n",
        "- They can also give you back some computed value if you requested for one. This is called the return value.\n",
        "- When you write functions to do some computation or task, you can choose to have parameters to alter the behavior of the function or skip them. It depends on you.\n",
        "- In a similar way, you can make your function return a value too.\n",
        "- Using a function to do work is often termed as _calling_ the function.\n",
        "- When you call a function, you write the function name followed by `()`. You can supply any parameters you like supported by the function between those brackets.\n",
        "\n",
        "### The `print` function\n",
        "- Function `print` - outputs something to the monitor. More specifically, the console.\n",
        "    - `print` accepts arbitrary number of arguments.\n",
        "    - each argument is comma separated. E.g. `print(\"hello\", \"world\")` will also print `hello world`. (see example above).\n",
        "    - `print` does not return any value.\n",
        "    \n",
        "- `\"Hello World\"` - A string. A human readable piece of text."
      ],
      "metadata": {
        "id": "40TQK08dvmKj"
      }
    },
    {
      "cell_type": "markdown",
      "source": [
        "## Comments in code\n",
        "\n",
        "- Comments are a way of documenting the code in plain text. It helps describe a piece of functionality or generally helps add notes, ideas and anything relevant to certain sections of the program.\n",
        "- Comments are not considered part of the program. The interpreter or the compiler ignore comments and you can write whatever you want in comments without encountering problems - most of the times.\n",
        "- Another good use of comments is to make a line inactive without actually deleting it.\n",
        "- Python supports two types of comments - single and multi line.\n",
        "- Single line comments comment out only one line, using the `#` symbol in front of it. Every time you want a comment on a new line, you will have to start out with the pound symbol again.\n",
        "- Multi line comments help comment out multiple lines in one go. Multiline comments in python are wrapped between the `'''` or `\"\"\"` symbols.\n",
        "\n",
        "See examples of it below"
      ],
      "metadata": {
        "id": "ZfusyPyEuFTb"
      }
    },
    {
      "cell_type": "code",
      "source": [
        "# this is an example of a single line comment\n",
        "some_var = 23 # I can write a comment here too\n",
        "# some_other_var = 24 # Since there is a pound symbol right at the start, this whole line is a comment.\n",
        "\n",
        "# everytime I want to type a new line of comment, I will have to start with the pound symbol.\n",
        "\n",
        "'''\n",
        "The above three quotes mark the start of a multi-line comment.\n",
        "the same set of characters below marks the end of a multi-line comment block.\n",
        "'''\n",
        "\n",
        "\"\"\"\n",
        "Note that I can use double or single quotes to write multi-line comments.\n",
        "However, combining single and double quotes is not allowed.\n",
        "\n",
        "i.e. I cannot start my comment with one set of quotes and end it with another\n",
        "\"\"\""
      ],
      "metadata": {
        "colab": {
          "base_uri": "https://localhost:8080/",
          "height": 35
        },
        "id": "8h933sZbvQJh",
        "outputId": "0627bbf3-97e9-4570-ba11-2df2edea4f98"
      },
      "execution_count": null,
      "outputs": [
        {
          "output_type": "execute_result",
          "data": {
            "text/plain": [
              "'\\nThe above three quotes mark the start of a multi-line comment.\\nthe same set of characters below marks the end of a multi-line comment block.\\n'"
            ],
            "application/vnd.google.colaboratory.intrinsic+json": {
              "type": "string"
            }
          },
          "metadata": {},
          "execution_count": 5
        }
      ]
    },
    {
      "cell_type": "markdown",
      "source": [
        "## Understanding variables\n",
        "\n",
        "### What are variables?\n",
        "\n",
        "- Anything that can either hold values/ tell you about the value.\n",
        "- Variables can take on any value\n",
        "\n",
        "### What kind of variables?\n",
        "\n",
        "- humans interact in human languages spoke or in written text.\n",
        "- Computers don't understand human languages. mainly meant for computation\n",
        "- you have to tell the computer to recognize what you mean by a value.\n",
        "- e.g. if you want the computer to add 2 numbers, you have to tell the computer to treat those 2 values as numbers first.\n",
        "- then the computer knowing what those variables are, has certain operations associated/ allowed with a certain type of values.\n",
        "\n",
        "### Variable naming\n",
        "\n",
        "- Variable naming has its constraints\n",
        "- Allowed chars in variables names - numbers between 0-9, alphabets from a-z, `_`.\n",
        "- Variable name **_cannot_** start with a number.\n",
        "    - Valid variable names - `_`, `__`, `a`, `my_int`, `_1` etc.\n",
        "    - Invalid variable names - `1_`, `1a`\n",
        "- Variable names are case sensitive. E.g. `my_int` and `My_int` are 2 different variables.\n",
        "\n",
        "Let us look at some examples of variables and how they interact with values directly."
      ],
      "metadata": {
        "id": "61bC6p_D4CFV"
      }
    },
    {
      "cell_type": "markdown",
      "source": [
        "## Data types\n",
        "\n",
        "A data type is nothing but a way of telling a computer how to deal with values.\n",
        "\n",
        "- Computers only understand and work on binary numbers. They have no concept of language, numbers, or anything we humans deal with.\n",
        "- We have developed mathematical and engineering tools through which we can represent any quantities we deal with as binary numbers or a sequence of binary numbers.\n",
        "- Data types are a way of telling the computer how to interpret the set of binary numbers.\n",
        "- Each data type is specific in terms of what it can store and what is allowed and what is not.\n",
        "- There are 2 main categories of data types\n",
        "    - Primitive/ native data types\n",
        "    - Secondary/ User defined data types\n",
        "\n",
        "\n",
        "Specific operations are defined and allowed on all of these data types.\n",
        "\n",
        "\n",
        "#### Primitive data types\n",
        "\n",
        "- Essentially those data types, which are defined as a part of the core programming language implementation itself.\n",
        "    - PDTs defined as a part of python programming language \n",
        "        - Scalar Data Types - `int`, `float`\n",
        "        - Container data types - `str`, `list`, `dict`, `tuple`\n",
        "        - And many others.\n",
        "\n",
        "#### Secondary data types\n",
        "- These data types are defined as part of language extensions or additional code called as libraries.\n",
        "- We can define our own custom data types too."
      ],
      "metadata": {
        "id": "8QO350pm_JT4"
      }
    },
    {
      "cell_type": "code",
      "source": [
        "# general syntax - <variable_name> = <value>\n",
        "\n",
        "my_integer = 45 # an integer variable\n",
        "my_fraction = 67.334 # a floating point variable\n",
        "my_fraction_1 = my_fraction # creating a variable from another variable\n",
        "\n",
        "# writing a string - human readable text. you wrap the text within quotes. double or single.\n",
        "my_string = \"This is an example on creating a string type variable\"\n",
        "my_string_1 = 'This is an example on creating a string type variable'\n",
        "\n",
        "# using the print function to display a number\n",
        "print(123)\n",
        "print(45.667)\n",
        "\n",
        "# using the print function to display a string\n",
        "print(\"Hello Sunetra\")\n",
        "print(\"This is me learning programming in Python\")\n",
        "\n",
        "# using the print function to display values stored in a variable\n",
        "print(my_integer)\n",
        "print(my_fraction)\n",
        "print(my_fraction_1)\n",
        "print(my_string)"
      ],
      "metadata": {
        "colab": {
          "base_uri": "https://localhost:8080/"
        },
        "id": "7K9DWj5t7wXC",
        "outputId": "7bf3f618-8370-4a46-a7c3-a4af84c1b53a"
      },
      "execution_count": null,
      "outputs": [
        {
          "output_type": "stream",
          "name": "stdout",
          "text": [
            "123\n",
            "45.667\n",
            "Hello Sunetra\n",
            "This is me learning programming in Python\n",
            "45\n",
            "67.334\n",
            "67.334\n",
            "This is an example on creating a string type variable\n"
          ]
        }
      ]
    },
    {
      "cell_type": "markdown",
      "source": [
        "### Can I operate on 2 values of different types?\n",
        "\n",
        "No, is a simple answer. the longer answer is that it depends.\n",
        "\n",
        "We will learn more about this througout the course as it has a multi-part answer."
      ],
      "metadata": {
        "id": "3agSXgLn-l3J"
      }
    },
    {
      "cell_type": "markdown",
      "source": [
        "## Converting between data types\n",
        "\n",
        "A question that naturally arises from the discussion of data types is whether we can convert from data type to another, and the answer to this question a non-trivial one for multiple reasons.\n",
        "\n",
        "Converting between data types involves reading a set of binary digits differently or changing your \"perspective\" on how to look at some digits. So one needs to explicitly define how this shift in perspective happens. Even conversion between native data types is defined as a part of the language implementation.\n",
        "\n",
        "To do conversion between native data types, here is a list data type conversion functions.\n",
        "\n",
        "|         | `str`         | `int`         | `float`       |\n",
        "|---------|---------------|---------------|---------------|\n",
        "| `str`   | Nothing to do | `int(value)`       | `float(value)`     |\n",
        "| `int`   | `str(value)`       | Nothing to do | `float(value)`     |\n",
        "| `float` | `str(value)`       | `int(value)`       | Nothing to do |\n",
        "\n",
        "Let us take a look at few examples"
      ],
      "metadata": {
        "id": "-RAD89jMy7Od"
      }
    },
    {
      "cell_type": "code",
      "source": [
        "# ======= CONVERSION BETWEEN INT AND STRING =======\n",
        "my_int_1 = 12345\n",
        "# We first see how to convert an integer to string\n",
        "my_str_from_int_1 = str(my_int_1) \n",
        "\n",
        "# we will see what isinstance is in the future. but the short answer\n",
        "# is that it checks what the type of a variable is. it accepts\n",
        "# the variable and a type, and returns true or false\n",
        "print(f\"Is the new quantity '{my_str_from_int_1}' a string? \\t {isinstance(my_str_from_int_1, str)}\")\n",
        "\n",
        "# now we convert back from string to integer\n",
        "my_int_from_str_1 = int(my_str_from_int_1)\n",
        "# we test whether we converted properly\n",
        "print(f\"Is the new quantity '{my_int_from_str_1}' a    int? \\t {isinstance(my_int_from_str_1, int)}\")\n",
        "# ======= CONVERSION BETWEEN INT AND STRING =======\n",
        "\n",
        "\n",
        "# ======= CONVERSION BETWEEN FLOAT AND STRING =======\n",
        "my_float_1 = 187.801273\n",
        "# We first see how to convert an float to string\n",
        "my_str_from_float_1 = str(my_float_1) \n",
        "\n",
        "# we will see what isinstance is in the future. but the short answer\n",
        "# is that it checks what the type of a variable is. it accepts\n",
        "# the variable and a type, and returns true or false\n",
        "print(f\"Is the new quantity '{my_str_from_float_1}' a string? \\t {isinstance(my_str_from_float_1, str)}\")\n",
        "\n",
        "# now we convert back from string to float\n",
        "my_float_from_str_1 = float(my_str_from_float_1)\n",
        "# we test whether we converted properly\n",
        "print(f\"Is the new quantity '{my_float_from_str_1}' a int? \\t {isinstance(my_float_from_str_1, float)}\")\n",
        "# ======= CONVERSION BETWEEN FLOAT AND STRING =======\n",
        "\n",
        "# ======= CONVERSION BETWEEN FLOAT AND INT =======\n",
        "# note that in the case of conversion from float -> int, the decimal part\n",
        "# of the number is truncated and only the integer part of it is retained\n",
        "\n",
        "my_float_2 = 187.801273\n",
        "# We first see how to convert an float to an integer\n",
        "my_int_from_float_2 = int(my_float_2)\n",
        "\n",
        "# we will see what isinstance is in the future. but the short answer\n",
        "# is that it checks what the type of a variable is. it accepts\n",
        "# the variable and a type, and returns true or false\n",
        "print(f\"Is the new quantity '{my_int_from_float_2}' a int? \\t {isinstance(my_int_from_float_2, int)}\")\n",
        "\n",
        "# now we convert back from integer to float\n",
        "my_float_from_int_1 = float(my_int_from_float_2)\n",
        "# we test whether we converted properly\n",
        "print(f\"Is the new quantity '{my_float_from_int_1}' a float? \\t {isinstance(my_float_from_int_1, float)}\")\n",
        "# ======= CONVERSION BETWEEN FLOAT AND INT ======="
      ],
      "metadata": {
        "colab": {
          "base_uri": "https://localhost:8080/"
        },
        "id": "gZTVXqwG_CMk",
        "outputId": "dfeb3fdb-3d46-4689-93cc-e1b43cd33b72"
      },
      "execution_count": null,
      "outputs": [
        {
          "output_type": "stream",
          "name": "stdout",
          "text": [
            "Is the new quantity '12345' a string? \t True\n",
            "Is the new quantity '12345' a    int? \t True\n",
            "Is the new quantity '187.801273' a string? \t True\n",
            "Is the new quantity '187.801273' a int? \t True\n",
            "Is the new quantity '187' a int? \t True\n",
            "Is the new quantity '187.0' a float? \t True\n"
          ]
        }
      ]
    },
    {
      "cell_type": "markdown",
      "source": [
        "### REPL - Special Note\n",
        "\n",
        "- REPL stands for - **R**ead **E**valuate **P**rint **L**oop\n",
        "    - Read the input as an expression (single line expression)\n",
        "    - Evaluate the expression\n",
        "    - Print the results\n",
        "    - Do it all over again - essentially, loop.\n",
        "\n",
        "Python allows you to use the REPL to execute statements directly\n",
        "See below for example"
      ],
      "metadata": {
        "id": "j0Q4Mkqb9OuJ"
      }
    },
    {
      "cell_type": "code",
      "source": [
        "# repl example with only one expression\n",
        "(9*8) + 90"
      ],
      "metadata": {
        "colab": {
          "base_uri": "https://localhost:8080/"
        },
        "id": "U9Z9mmNWeLeL",
        "outputId": "a4a0437a-febb-43a9-853a-865c8f97c535"
      },
      "execution_count": null,
      "outputs": [
        {
          "output_type": "execute_result",
          "data": {
            "text/plain": [
              "162"
            ]
          },
          "metadata": {},
          "execution_count": 1
        }
      ]
    },
    {
      "cell_type": "code",
      "source": [
        "# repl example with multiple expressions\n",
        "3 + 2, 5 - 6, 7 * 8, 5/6"
      ],
      "metadata": {
        "colab": {
          "base_uri": "https://localhost:8080/"
        },
        "id": "vdK56xf49sWz",
        "outputId": "b2af49ff-0ee0-495f-eea8-565119de1d33"
      },
      "execution_count": null,
      "outputs": [
        {
          "output_type": "execute_result",
          "data": {
            "text/plain": [
              "(5, -1, 56, 0.8333333333333334)"
            ]
          },
          "metadata": {},
          "execution_count": 10
        }
      ]
    },
    {
      "cell_type": "code",
      "source": [
        "'''\n",
        "Please note that when you write multiple expressions on different lines, python\n",
        "will only consider the last one line for evaluation and hence will not consider\n",
        "the lines above that.\n",
        "See example here\n",
        "'''\n",
        "\n",
        "# this line will not be executed\n",
        "3+2 \n",
        "\n",
        "# only this line will be executed\n",
        "4*5"
      ],
      "metadata": {
        "colab": {
          "base_uri": "https://localhost:8080/"
        },
        "id": "b9zwWq6Zemq_",
        "outputId": "9a287d82-259f-47d6-ef70-9d9910d37e9b"
      },
      "execution_count": null,
      "outputs": [
        {
          "output_type": "execute_result",
          "data": {
            "text/plain": [
              "20"
            ]
          },
          "metadata": {},
          "execution_count": 3
        }
      ]
    },
    {
      "cell_type": "code",
      "source": [
        "## doing things via variables\n",
        "\n",
        "my_num_1 = 67\n",
        "my_num_2 = 56\n",
        "\n",
        "my_sum = my_num_1 + my_num_2\n",
        "\n",
        "# string interpolation\n",
        "print(f\"The sum of {my_num_1} and {my_num_2} is {my_sum}\")"
      ],
      "metadata": {
        "colab": {
          "base_uri": "https://localhost:8080/"
        },
        "id": "UAIamBdZ-Ahr",
        "outputId": "5d4e999a-1927-4e97-f1c8-32557605020a"
      },
      "execution_count": null,
      "outputs": [
        {
          "output_type": "stream",
          "name": "stdout",
          "text": [
            "The sum of 67 and 56 is 123\n"
          ]
        }
      ]
    },
    {
      "cell_type": "markdown",
      "source": [
        "## Different types of operators in Python\n",
        "\n",
        "- Arithmetic operators\n",
        "    - Addition - `+`\n",
        "    - Subtraction - `-`\n",
        "    - Multiplication - `*`\n",
        "    - Bracket - `()`\n",
        "    - Exponentiation/ Power - `**`\n",
        "    - Division - `/` (Floating point division)\n",
        "    - Modulus operator `%` - Remainder\n",
        "    - Truncated division `//` - just gives you the integer part of the division\n",
        "\n",
        "\n",
        "The context or the data type controls how the operators behave.\n",
        "\n",
        "Briefly, if we use any of these operators and supply 2 different data types,\n",
        "they are not guaranteed work the way we expect always.\n",
        "- Logical operators\n",
        "    - `and`, `or`, `not`\n",
        "- Comparison operators\n",
        "    - `>` - checks if the LHS value is greater than RHS. The result of the expression is `True` or `False`.\n",
        "    - `<` - checks if the LHS value is less than RHS. The result of the expression is `True` or `False`.\n",
        "    - `>=` - checks if the LHS value is greater than or equal to RHS. The result of the expression is `True` or `False`.\n",
        "    - `<=` - checks if the LHS value is less than or equal to RHS. The result of the expression is `True` or `False`.\n",
        "    - `!=` - checks if LHS is not equal to RHS. The result of the expression is again `True` or `False`.\n",
        "    - `==` - checks if the LHS is equal to RHS. The result of the expression is again `True` or `False`.\n",
        "- Assignment operator `=`. This is used to assign values to variables. Assignment order is from RHS to LHS.\n",
        "\n",
        "- Bitwise operators\n",
        "    - `&` - bitwise ands 2 integers\n",
        "    - `|` - bitwise ors 2 integers\n",
        "    - `~` - bitwise not an integer\n",
        "    - `^` - bitwise xor 2 integers\n",
        "    - `num << by` - bitwise left shift operator\n",
        "    - `num >> by` - bitwise right shift operator"
      ],
      "metadata": {
        "id": "L3nWGK3ADN_I"
      }
    },
    {
      "cell_type": "code",
      "source": [
        "# More examples on bitwise operators to be added here.\n",
        "print(bin(0b101111 >> 2))\n",
        "print(bin(0b101111 << 2))"
      ],
      "metadata": {
        "colab": {
          "base_uri": "https://localhost:8080/"
        },
        "id": "FZmDy7q1GLBE",
        "outputId": "b661be54-14ce-4483-9b9b-4c35e374a2f9"
      },
      "execution_count": null,
      "outputs": [
        {
          "output_type": "stream",
          "name": "stdout",
          "text": [
            "0b1011\n",
            "0b10111100\n"
          ]
        }
      ]
    },
    {
      "cell_type": "code",
      "source": [
        "# some examples on arithmetic operators\n",
        "print(f\"Example: Addition of 1 and 2: {1 + 2}\")\n",
        "print(f\"Example: Difference of 1 and 2: {1 - 2}\")\n",
        "print(f\"Example: Product of 3 and 4: {3 * 4}\")\n",
        "print(f\"Example: Division of 3 and 4: {3 / 4}\")\n",
        "print(f\"Example: Remainder of the Division of 3 and 4: {3 % 4}\")\n",
        "print(f\"Example: Integer part of the Division of 3 and 4: {3 // 4}\")\n",
        "print(f\"Example: Exponentiation with 3 and 4: {3 ** 4}\")\n",
        "print(f\"Example: Square root of 81: {64 ** (1/3)}\")\n",
        "print(f\"Example: Addition of an integer 3 and a floating point number 4.155 will give us a floating point number = {3 + 4.155}\")\n",
        "print(f\"This is a popular problem we see on social media sites - {(3+2) * (5 - 18)}\")"
      ],
      "metadata": {
        "colab": {
          "base_uri": "https://localhost:8080/"
        },
        "id": "vm0c--KDA70c",
        "outputId": "670c2572-37e8-4b35-bbd3-012bfe0327b4"
      },
      "execution_count": null,
      "outputs": [
        {
          "output_type": "stream",
          "name": "stdout",
          "text": [
            "Example: Addition of 1 and 2: 3\n",
            "Example: Difference of 1 and 2: -1\n",
            "Example: Product of 3 and 4: 12\n",
            "Example: Division of 3 and 4: 0.75\n",
            "Example: Remainder of the Division of 3 and 4: 3\n",
            "Example: Integer part of the Division of 3 and 4: 0\n",
            "Example: Exponentiation with 3 and 4: 81\n",
            "Example: Square root of 81: 3.9999999999999996\n",
            "Example: Addition of an integer 3 and a floating point number 4.155 will give us a floating point number = 7.155\n",
            "This is a popular problem we see on social media sites - -65\n"
          ]
        }
      ]
    }
  ]
}